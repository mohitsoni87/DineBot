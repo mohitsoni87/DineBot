{
 "cells": [
  {
   "cell_type": "markdown",
   "metadata": {
    "id": "PGxA1vGwaMqc"
   },
   "source": [
    "Documentation:\n",
    "\n",
    "This part creates a dataset for generating the candidates of users request,\n",
    "it takes:[{column:query}, {coulumn, query}], and will fetch the top 5 results\n",
    "\n",
    "\n",
    "the column list accepted here is :\n",
    "\n",
    "* 1.rate             \n",
    "* 2.approx_cost  \n",
    "the numerial variable can take one number, two numbers, or a number and a direction\n",
    "\n",
    "for example: [\n",
    "  {'rate',(3,4)},{'approx_cost',200}]\n",
    "\n",
    "----------------\n",
    "\n",
    "* 3.location         \n",
    "* 4.rest_type        \n",
    "* 5.dish_liked      \n",
    "* 6.cuisines         \n",
    "* 7.menu_item        \n",
    "* 8.listed_type    \n",
    "\n",
    "pass the variable and the query:\n",
    "\n",
    "for example\n",
    "[{'cuisines': 'Italian'},\n",
    "{'location': 'Banashankari'}]\n",
    "\n"
   ]
  },
  {
   "cell_type": "markdown",
   "metadata": {
    "id": "5UqFKJxlZBjZ"
   },
   "source": [
    "## Data proprecessing\n"
   ]
  },
  {
   "cell_type": "code",
   "execution_count": 3,
   "metadata": {
    "id": "2n49jp_ENtUl"
   },
   "outputs": [],
   "source": [
    "import pandas as pd\n",
    "import numpy as np"
   ]
  },
  {
   "cell_type": "code",
   "execution_count": 5,
   "metadata": {
    "colab": {
     "base_uri": "https://localhost:8080/",
     "height": 0
    },
    "id": "wdgMTp2vN1xV",
    "outputId": "96a8034e-ac05-4f16-cf1a-9ca28ac702d2"
   },
   "outputs": [],
   "source": [
    "file_path ='/Users/jamie/Downloads/zomato.csv'\n",
    "zomato = pd.read_csv(file_path)"
   ]
  },
  {
   "cell_type": "code",
   "execution_count": 6,
   "metadata": {
    "id": "ibDrKF-XOCdV"
   },
   "outputs": [],
   "source": [
    "zomato.rename(columns={'approx_cost(for two people)':'approx_cost','listed_in(type)':'listed_type','listed_in(city)':'listed_city'},inplace=True)"
   ]
  },
  {
   "cell_type": "code",
   "execution_count": 7,
   "metadata": {
    "id": "jL3oPL5aY9YD"
   },
   "outputs": [],
   "source": [
    "#1. process the data type for float variables :convert str to float\n",
    "\n",
    "# Define a lambda function to remove the '/5' from the rate column and convert to float\n",
    "remove_slash = lambda x: x.replace('/5', '') if isinstance(x, str) else x\n",
    "\n",
    "# Apply the lambda function to the rate column\n",
    "# Ensure the column is treated as string before calling .replace()\n",
    "zomato['rate'] = zomato['rate'].astype(str).apply(remove_slash).str.strip()\n",
    "\n",
    "# Now, safely convert the rate column to float\n",
    "zomato['rate'] = pd.to_numeric(zomato['rate'], errors='coerce')\n",
    "\n",
    "\n",
    "#convert cost into float\n",
    "\n",
    "#zomato['approx_cost'] = zomato['approx_cost'].astype(str).replace(',', '').astype(float, errors='ignore')\n",
    "zomato['votes'] = zomato['votes'].astype(str).str.strip().astype(float, errors='ignore')\n",
    "zomato['approx_cost'] = zomato['approx_cost'].astype(str)\n",
    "zomato['approx_cost'] = zomato['approx_cost'].apply(lambda x: x.replace(',','.')) #Using lambda function to replace ',' from cost\n",
    "zomato['approx_cost'] = zomato['approx_cost'].astype(float)\n"
   ]
  },
  {
   "cell_type": "code",
   "execution_count": 8,
   "metadata": {
    "id": "mO8mFWEAcLac"
   },
   "outputs": [],
   "source": [
    "#2. calculated a weighted rating score based on voting\n",
    "\n",
    "# Calculate C as the mean rating across all restaurants\n",
    "C = zomato['rate'].mean()\n",
    "\n",
    "# Set m to a value you choose (for example, the 90th percentile of the votes)\n",
    "m = zomato['votes'].quantile(0.90)\n",
    "\n",
    "# Define a function to compute the weighted rating for each row\n",
    "def weighted_rating(x, m, C):\n",
    "    v = x['votes']\n",
    "    R = x['rate']\n",
    "    return (v/(v+m) * R) + (m/(m+v) * C)\n",
    "\n",
    "# Apply the function to your DataFrame\n",
    "zomato['weighted_rating'] = zomato.apply(weighted_rating, axis=1, args=(m, C))"
   ]
  },
  {
   "cell_type": "markdown",
   "metadata": {
    "id": "6G1zqQC3aDwt"
   },
   "source": []
  },
  {
   "cell_type": "code",
   "execution_count": 9,
   "metadata": {
    "colab": {
     "base_uri": "https://localhost:8080/",
     "height": 556
    },
    "id": "rPJkH6uhOSlT",
    "outputId": "cbbf20bf-6d28-472c-f80c-ea8d70d4a596"
   },
   "outputs": [
    {
     "data": {
      "text/html": [
       "<div>\n",
       "<style scoped>\n",
       "    .dataframe tbody tr th:only-of-type {\n",
       "        vertical-align: middle;\n",
       "    }\n",
       "\n",
       "    .dataframe tbody tr th {\n",
       "        vertical-align: top;\n",
       "    }\n",
       "\n",
       "    .dataframe thead th {\n",
       "        text-align: right;\n",
       "    }\n",
       "</style>\n",
       "<table border=\"1\" class=\"dataframe\">\n",
       "  <thead>\n",
       "    <tr style=\"text-align: right;\">\n",
       "      <th></th>\n",
       "      <th>url</th>\n",
       "      <th>address</th>\n",
       "      <th>name</th>\n",
       "      <th>online_order</th>\n",
       "      <th>book_table</th>\n",
       "      <th>rate</th>\n",
       "      <th>votes</th>\n",
       "      <th>phone</th>\n",
       "      <th>location</th>\n",
       "      <th>rest_type</th>\n",
       "      <th>dish_liked</th>\n",
       "      <th>cuisines</th>\n",
       "      <th>approx_cost</th>\n",
       "      <th>reviews_list</th>\n",
       "      <th>menu_item</th>\n",
       "      <th>listed_type</th>\n",
       "      <th>listed_city</th>\n",
       "      <th>weighted_rating</th>\n",
       "    </tr>\n",
       "  </thead>\n",
       "  <tbody>\n",
       "    <tr>\n",
       "      <th>0</th>\n",
       "      <td>https://www.zomato.com/bangalore/jalsa-banasha...</td>\n",
       "      <td>942, 21st Main Road, 2nd Stage, Banashankari, ...</td>\n",
       "      <td>Jalsa</td>\n",
       "      <td>Yes</td>\n",
       "      <td>Yes</td>\n",
       "      <td>4.1</td>\n",
       "      <td>775.0</td>\n",
       "      <td>080 42297555\\r\\n+91 9743772233</td>\n",
       "      <td>Banashankari</td>\n",
       "      <td>Casual Dining</td>\n",
       "      <td>Pasta, Lunch Buffet, Masala Papad, Paneer Laja...</td>\n",
       "      <td>North Indian, Mughlai, Chinese</td>\n",
       "      <td>800.0</td>\n",
       "      <td>[('Rated 4.0', 'RATED\\n  A beautiful place to ...</td>\n",
       "      <td>[]</td>\n",
       "      <td>Buffet</td>\n",
       "      <td>Banashankari</td>\n",
       "      <td>3.909956</td>\n",
       "    </tr>\n",
       "    <tr>\n",
       "      <th>1</th>\n",
       "      <td>https://www.zomato.com/bangalore/spice-elephan...</td>\n",
       "      <td>2nd Floor, 80 Feet Road, Near Big Bazaar, 6th ...</td>\n",
       "      <td>Spice Elephant</td>\n",
       "      <td>Yes</td>\n",
       "      <td>No</td>\n",
       "      <td>4.1</td>\n",
       "      <td>787.0</td>\n",
       "      <td>080 41714161</td>\n",
       "      <td>Banashankari</td>\n",
       "      <td>Casual Dining</td>\n",
       "      <td>Momos, Lunch Buffet, Chocolate Nirvana, Thai G...</td>\n",
       "      <td>Chinese, North Indian, Thai</td>\n",
       "      <td>800.0</td>\n",
       "      <td>[('Rated 4.0', 'RATED\\n  Had been here for din...</td>\n",
       "      <td>[]</td>\n",
       "      <td>Buffet</td>\n",
       "      <td>Banashankari</td>\n",
       "      <td>3.911487</td>\n",
       "    </tr>\n",
       "    <tr>\n",
       "      <th>2</th>\n",
       "      <td>https://www.zomato.com/SanchurroBangalore?cont...</td>\n",
       "      <td>1112, Next to KIMS Medical College, 17th Cross...</td>\n",
       "      <td>San Churro Cafe</td>\n",
       "      <td>Yes</td>\n",
       "      <td>No</td>\n",
       "      <td>3.8</td>\n",
       "      <td>918.0</td>\n",
       "      <td>+91 9663487993</td>\n",
       "      <td>Banashankari</td>\n",
       "      <td>Cafe, Casual Dining</td>\n",
       "      <td>Churros, Cannelloni, Minestrone Soup, Hot Choc...</td>\n",
       "      <td>Cafe, Mexican, Italian</td>\n",
       "      <td>800.0</td>\n",
       "      <td>[('Rated 3.0', \"RATED\\n  Ambience is not that ...</td>\n",
       "      <td>[]</td>\n",
       "      <td>Buffet</td>\n",
       "      <td>Banashankari</td>\n",
       "      <td>3.756826</td>\n",
       "    </tr>\n",
       "    <tr>\n",
       "      <th>3</th>\n",
       "      <td>https://www.zomato.com/bangalore/addhuri-udupi...</td>\n",
       "      <td>1st Floor, Annakuteera, 3rd Stage, Banashankar...</td>\n",
       "      <td>Addhuri Udupi Bhojana</td>\n",
       "      <td>No</td>\n",
       "      <td>No</td>\n",
       "      <td>3.7</td>\n",
       "      <td>88.0</td>\n",
       "      <td>+91 9620009302</td>\n",
       "      <td>Banashankari</td>\n",
       "      <td>Quick Bites</td>\n",
       "      <td>Masala Dosa</td>\n",
       "      <td>South Indian, North Indian</td>\n",
       "      <td>300.0</td>\n",
       "      <td>[('Rated 4.0', \"RATED\\n  Great food and proper...</td>\n",
       "      <td>[]</td>\n",
       "      <td>Buffet</td>\n",
       "      <td>Banashankari</td>\n",
       "      <td>3.700399</td>\n",
       "    </tr>\n",
       "    <tr>\n",
       "      <th>4</th>\n",
       "      <td>https://www.zomato.com/bangalore/grand-village...</td>\n",
       "      <td>10, 3rd Floor, Lakshmi Associates, Gandhi Baza...</td>\n",
       "      <td>Grand Village</td>\n",
       "      <td>No</td>\n",
       "      <td>No</td>\n",
       "      <td>3.8</td>\n",
       "      <td>166.0</td>\n",
       "      <td>+91 8026612447\\r\\n+91 9901210005</td>\n",
       "      <td>Basavanagudi</td>\n",
       "      <td>Casual Dining</td>\n",
       "      <td>Panipuri, Gol Gappe</td>\n",
       "      <td>North Indian, Rajasthani</td>\n",
       "      <td>600.0</td>\n",
       "      <td>[('Rated 4.0', 'RATED\\n  Very good restaurant ...</td>\n",
       "      <td>[]</td>\n",
       "      <td>Buffet</td>\n",
       "      <td>Banashankari</td>\n",
       "      <td>3.719465</td>\n",
       "    </tr>\n",
       "  </tbody>\n",
       "</table>\n",
       "</div>"
      ],
      "text/plain": [
       "                                                 url  \\\n",
       "0  https://www.zomato.com/bangalore/jalsa-banasha...   \n",
       "1  https://www.zomato.com/bangalore/spice-elephan...   \n",
       "2  https://www.zomato.com/SanchurroBangalore?cont...   \n",
       "3  https://www.zomato.com/bangalore/addhuri-udupi...   \n",
       "4  https://www.zomato.com/bangalore/grand-village...   \n",
       "\n",
       "                                             address                   name  \\\n",
       "0  942, 21st Main Road, 2nd Stage, Banashankari, ...                  Jalsa   \n",
       "1  2nd Floor, 80 Feet Road, Near Big Bazaar, 6th ...         Spice Elephant   \n",
       "2  1112, Next to KIMS Medical College, 17th Cross...        San Churro Cafe   \n",
       "3  1st Floor, Annakuteera, 3rd Stage, Banashankar...  Addhuri Udupi Bhojana   \n",
       "4  10, 3rd Floor, Lakshmi Associates, Gandhi Baza...          Grand Village   \n",
       "\n",
       "  online_order book_table  rate  votes                             phone  \\\n",
       "0          Yes        Yes   4.1  775.0    080 42297555\\r\\n+91 9743772233   \n",
       "1          Yes         No   4.1  787.0                      080 41714161   \n",
       "2          Yes         No   3.8  918.0                    +91 9663487993   \n",
       "3           No         No   3.7   88.0                    +91 9620009302   \n",
       "4           No         No   3.8  166.0  +91 8026612447\\r\\n+91 9901210005   \n",
       "\n",
       "       location            rest_type  \\\n",
       "0  Banashankari        Casual Dining   \n",
       "1  Banashankari        Casual Dining   \n",
       "2  Banashankari  Cafe, Casual Dining   \n",
       "3  Banashankari          Quick Bites   \n",
       "4  Basavanagudi        Casual Dining   \n",
       "\n",
       "                                          dish_liked  \\\n",
       "0  Pasta, Lunch Buffet, Masala Papad, Paneer Laja...   \n",
       "1  Momos, Lunch Buffet, Chocolate Nirvana, Thai G...   \n",
       "2  Churros, Cannelloni, Minestrone Soup, Hot Choc...   \n",
       "3                                        Masala Dosa   \n",
       "4                                Panipuri, Gol Gappe   \n",
       "\n",
       "                         cuisines  approx_cost  \\\n",
       "0  North Indian, Mughlai, Chinese        800.0   \n",
       "1     Chinese, North Indian, Thai        800.0   \n",
       "2          Cafe, Mexican, Italian        800.0   \n",
       "3      South Indian, North Indian        300.0   \n",
       "4        North Indian, Rajasthani        600.0   \n",
       "\n",
       "                                        reviews_list menu_item listed_type  \\\n",
       "0  [('Rated 4.0', 'RATED\\n  A beautiful place to ...        []      Buffet   \n",
       "1  [('Rated 4.0', 'RATED\\n  Had been here for din...        []      Buffet   \n",
       "2  [('Rated 3.0', \"RATED\\n  Ambience is not that ...        []      Buffet   \n",
       "3  [('Rated 4.0', \"RATED\\n  Great food and proper...        []      Buffet   \n",
       "4  [('Rated 4.0', 'RATED\\n  Very good restaurant ...        []      Buffet   \n",
       "\n",
       "    listed_city  weighted_rating  \n",
       "0  Banashankari         3.909956  \n",
       "1  Banashankari         3.911487  \n",
       "2  Banashankari         3.756826  \n",
       "3  Banashankari         3.700399  \n",
       "4  Banashankari         3.719465  "
      ]
     },
     "execution_count": 9,
     "metadata": {},
     "output_type": "execute_result"
    }
   ],
   "source": [
    "zomato.head()"
   ]
  },
  {
   "cell_type": "code",
   "execution_count": 10,
   "metadata": {
    "id": "OVOg3OtfTB7K"
   },
   "outputs": [],
   "source": [
    "\n",
    "zomato.drop_duplicates(subset=['name','address'],inplace=True)"
   ]
  },
  {
   "cell_type": "code",
   "execution_count": 14,
   "metadata": {
    "id": "MshNE4b0_nEu"
   },
   "outputs": [],
   "source": [
    "zomato.drop(['url','address','phone'],axis=1,inplace=True)"
   ]
  },
  {
   "cell_type": "code",
   "execution_count": 11,
   "metadata": {
    "id": "mVMgtEpxAIqn"
   },
   "outputs": [],
   "source": [
    "#zomato.to_csv('/content/drive/My Drive/Colab Notebooks/data/zomato_ready.csv', index=False)"
   ]
  },
  {
   "cell_type": "code",
   "execution_count": 12,
   "metadata": {
    "colab": {
     "base_uri": "https://localhost:8080/"
    },
    "id": "Sv8AVNCJRukl",
    "outputId": "0cd61052-d7e2-42aa-a53c-c5ca5a426a92"
   },
   "outputs": [
    {
     "data": {
      "text/plain": [
       "3921     4.850535\n",
       "8260     4.780858\n",
       "40506    4.739724\n",
       "3762     4.699950\n",
       "39546    4.691678\n",
       "Name: weighted_rating, dtype: float64"
      ]
     },
     "execution_count": 12,
     "metadata": {},
     "output_type": "execute_result"
    }
   ],
   "source": [
    "zomato['weighted_rating'].sort_values(ascending=False)[0:5]"
   ]
  },
  {
   "cell_type": "code",
   "execution_count": null,
   "metadata": {
    "id": "hb3d1nGOAuME"
   },
   "outputs": [],
   "source": []
  },
  {
   "cell_type": "code",
   "execution_count": 13,
   "metadata": {
    "colab": {
     "base_uri": "https://localhost:8080/",
     "height": 590
    },
    "id": "rZ1_r9wxScxr",
    "outputId": "e28f3067-a5f6-4368-ef49-5dcabed6497c"
   },
   "outputs": [
    {
     "data": {
      "text/html": [
       "<div>\n",
       "<style scoped>\n",
       "    .dataframe tbody tr th:only-of-type {\n",
       "        vertical-align: middle;\n",
       "    }\n",
       "\n",
       "    .dataframe tbody tr th {\n",
       "        vertical-align: top;\n",
       "    }\n",
       "\n",
       "    .dataframe thead th {\n",
       "        text-align: right;\n",
       "    }\n",
       "</style>\n",
       "<table border=\"1\" class=\"dataframe\">\n",
       "  <thead>\n",
       "    <tr style=\"text-align: right;\">\n",
       "      <th></th>\n",
       "      <th>url</th>\n",
       "      <th>address</th>\n",
       "      <th>name</th>\n",
       "      <th>online_order</th>\n",
       "      <th>book_table</th>\n",
       "      <th>rate</th>\n",
       "      <th>votes</th>\n",
       "      <th>phone</th>\n",
       "      <th>location</th>\n",
       "      <th>rest_type</th>\n",
       "      <th>dish_liked</th>\n",
       "      <th>cuisines</th>\n",
       "      <th>approx_cost</th>\n",
       "      <th>reviews_list</th>\n",
       "      <th>menu_item</th>\n",
       "      <th>listed_type</th>\n",
       "      <th>listed_city</th>\n",
       "      <th>weighted_rating</th>\n",
       "    </tr>\n",
       "  </thead>\n",
       "  <tbody>\n",
       "    <tr>\n",
       "      <th>3921</th>\n",
       "      <td>https://www.zomato.com/bangalore/byg-brewski-b...</td>\n",
       "      <td>Behind MK Retail, Sarjapur Road, Bangalore</td>\n",
       "      <td>Byg Brewski Brewing Company</td>\n",
       "      <td>Yes</td>\n",
       "      <td>Yes</td>\n",
       "      <td>4.9</td>\n",
       "      <td>16345.0</td>\n",
       "      <td>+91 8039514766</td>\n",
       "      <td>Sarjapur Road</td>\n",
       "      <td>Microbrewery</td>\n",
       "      <td>Cocktails, Dahi Kebab, Rajma Chawal, Butter Ch...</td>\n",
       "      <td>Continental, North Indian, Italian, South Indi...</td>\n",
       "      <td>1.6</td>\n",
       "      <td>[('Rated 5.0', 'RATED\\n  I have been to this p...</td>\n",
       "      <td>[]</td>\n",
       "      <td>Delivery</td>\n",
       "      <td>Bellandur</td>\n",
       "      <td>4.850535</td>\n",
       "    </tr>\n",
       "    <tr>\n",
       "      <th>8260</th>\n",
       "      <td>https://www.zomato.com/bangalore/abs-absolute-...</td>\n",
       "      <td>100 Feet Road, 1st Phase, Near Jayadeva Flyove...</td>\n",
       "      <td>AB's - Absolute Barbecues</td>\n",
       "      <td>No</td>\n",
       "      <td>Yes</td>\n",
       "      <td>4.9</td>\n",
       "      <td>6375.0</td>\n",
       "      <td>040 45659912</td>\n",
       "      <td>BTM</td>\n",
       "      <td>Casual Dining</td>\n",
       "      <td>Tangdi Chicken, Bbq Buffet, Chocolate Icecream...</td>\n",
       "      <td>European, Mediterranean, North Indian, BBQ</td>\n",
       "      <td>1.6</td>\n",
       "      <td>[('Rated 5.0', 'RATED\\n  We liked the place a ...</td>\n",
       "      <td>[]</td>\n",
       "      <td>Buffet</td>\n",
       "      <td>BTM</td>\n",
       "      <td>4.780858</td>\n",
       "    </tr>\n",
       "    <tr>\n",
       "      <th>3762</th>\n",
       "      <td>https://www.zomato.com/bangalore/the-black-pea...</td>\n",
       "      <td>20/7, Swamy Legato, Outer Ring Road, Kadubeesa...</td>\n",
       "      <td>The Black Pearl</td>\n",
       "      <td>No</td>\n",
       "      <td>Yes</td>\n",
       "      <td>4.8</td>\n",
       "      <td>7023.0</td>\n",
       "      <td>080 49653069</td>\n",
       "      <td>Marathahalli</td>\n",
       "      <td>Casual Dining, Bar</td>\n",
       "      <td>Dahipuri, Jal-jeera, Chicken Grill, Mutton See...</td>\n",
       "      <td>North Indian, European, Mediterranean, BBQ</td>\n",
       "      <td>1.5</td>\n",
       "      <td>[('Rated 5.0', 'RATED\\n  One of the best place...</td>\n",
       "      <td>[]</td>\n",
       "      <td>Buffet</td>\n",
       "      <td>Bellandur</td>\n",
       "      <td>4.699950</td>\n",
       "    </tr>\n",
       "    <tr>\n",
       "      <th>39546</th>\n",
       "      <td>https://www.zomato.com/bangalore/chilis-americ...</td>\n",
       "      <td>2nd Floor, Orion Mall, Dr. Rajkumar Road, Mall...</td>\n",
       "      <td>Chili's American Grill &amp; Bar</td>\n",
       "      <td>Yes</td>\n",
       "      <td>Yes</td>\n",
       "      <td>4.8</td>\n",
       "      <td>6433.0</td>\n",
       "      <td>+91 9500075479\\n+91 9535541956</td>\n",
       "      <td>Malleshwaram</td>\n",
       "      <td>Casual Dining, Bar</td>\n",
       "      <td>Veg Platter, Burgers, Mushroom Soup, Cocktails...</td>\n",
       "      <td>American, Tex-Mex, Burger, BBQ, Mexican</td>\n",
       "      <td>1.4</td>\n",
       "      <td>[('Rated 2.0', \"RATED\\n  Pricey menu for the q...</td>\n",
       "      <td>['Bacon Ranch Chicken Quesadillas', 'Onion Rin...</td>\n",
       "      <td>Delivery</td>\n",
       "      <td>Malleshwaram</td>\n",
       "      <td>4.691678</td>\n",
       "    </tr>\n",
       "    <tr>\n",
       "      <th>41533</th>\n",
       "      <td>https://www.zomato.com/bangalore/the-boozy-gri...</td>\n",
       "      <td>20/7, 4th &amp; 5th Floor, Swamy Legato, Outer Rin...</td>\n",
       "      <td>The Boozy Griffin</td>\n",
       "      <td>No</td>\n",
       "      <td>Yes</td>\n",
       "      <td>4.8</td>\n",
       "      <td>4696.0</td>\n",
       "      <td>080 45128669</td>\n",
       "      <td>Marathahalli</td>\n",
       "      <td>Pub</td>\n",
       "      <td>Singapore Sling, Sea Food Platter, Cocktails, ...</td>\n",
       "      <td>European, Continental</td>\n",
       "      <td>1.8</td>\n",
       "      <td>[('Rated 4.0', 'RATED\\n  Best calamari i have ...</td>\n",
       "      <td>[]</td>\n",
       "      <td>Dine-out</td>\n",
       "      <td>Marathahalli</td>\n",
       "      <td>4.656828</td>\n",
       "    </tr>\n",
       "  </tbody>\n",
       "</table>\n",
       "</div>"
      ],
      "text/plain": [
       "                                                     url  \\\n",
       "3921   https://www.zomato.com/bangalore/byg-brewski-b...   \n",
       "8260   https://www.zomato.com/bangalore/abs-absolute-...   \n",
       "3762   https://www.zomato.com/bangalore/the-black-pea...   \n",
       "39546  https://www.zomato.com/bangalore/chilis-americ...   \n",
       "41533  https://www.zomato.com/bangalore/the-boozy-gri...   \n",
       "\n",
       "                                                 address  \\\n",
       "3921          Behind MK Retail, Sarjapur Road, Bangalore   \n",
       "8260   100 Feet Road, 1st Phase, Near Jayadeva Flyove...   \n",
       "3762   20/7, Swamy Legato, Outer Ring Road, Kadubeesa...   \n",
       "39546  2nd Floor, Orion Mall, Dr. Rajkumar Road, Mall...   \n",
       "41533  20/7, 4th & 5th Floor, Swamy Legato, Outer Rin...   \n",
       "\n",
       "                               name online_order book_table  rate    votes  \\\n",
       "3921    Byg Brewski Brewing Company          Yes        Yes   4.9  16345.0   \n",
       "8260      AB's - Absolute Barbecues           No        Yes   4.9   6375.0   \n",
       "3762                The Black Pearl           No        Yes   4.8   7023.0   \n",
       "39546  Chili's American Grill & Bar          Yes        Yes   4.8   6433.0   \n",
       "41533             The Boozy Griffin           No        Yes   4.8   4696.0   \n",
       "\n",
       "                                phone       location           rest_type  \\\n",
       "3921                   +91 8039514766  Sarjapur Road        Microbrewery   \n",
       "8260                     040 45659912            BTM       Casual Dining   \n",
       "3762                     080 49653069   Marathahalli  Casual Dining, Bar   \n",
       "39546  +91 9500075479\\n+91 9535541956   Malleshwaram  Casual Dining, Bar   \n",
       "41533                    080 45128669   Marathahalli                 Pub   \n",
       "\n",
       "                                              dish_liked  \\\n",
       "3921   Cocktails, Dahi Kebab, Rajma Chawal, Butter Ch...   \n",
       "8260   Tangdi Chicken, Bbq Buffet, Chocolate Icecream...   \n",
       "3762   Dahipuri, Jal-jeera, Chicken Grill, Mutton See...   \n",
       "39546  Veg Platter, Burgers, Mushroom Soup, Cocktails...   \n",
       "41533  Singapore Sling, Sea Food Platter, Cocktails, ...   \n",
       "\n",
       "                                                cuisines  approx_cost  \\\n",
       "3921   Continental, North Indian, Italian, South Indi...          1.6   \n",
       "8260          European, Mediterranean, North Indian, BBQ          1.6   \n",
       "3762          North Indian, European, Mediterranean, BBQ          1.5   \n",
       "39546            American, Tex-Mex, Burger, BBQ, Mexican          1.4   \n",
       "41533                              European, Continental          1.8   \n",
       "\n",
       "                                            reviews_list  \\\n",
       "3921   [('Rated 5.0', 'RATED\\n  I have been to this p...   \n",
       "8260   [('Rated 5.0', 'RATED\\n  We liked the place a ...   \n",
       "3762   [('Rated 5.0', 'RATED\\n  One of the best place...   \n",
       "39546  [('Rated 2.0', \"RATED\\n  Pricey menu for the q...   \n",
       "41533  [('Rated 4.0', 'RATED\\n  Best calamari i have ...   \n",
       "\n",
       "                                               menu_item listed_type  \\\n",
       "3921                                                  []    Delivery   \n",
       "8260                                                  []      Buffet   \n",
       "3762                                                  []      Buffet   \n",
       "39546  ['Bacon Ranch Chicken Quesadillas', 'Onion Rin...    Delivery   \n",
       "41533                                                 []    Dine-out   \n",
       "\n",
       "        listed_city  weighted_rating  \n",
       "3921      Bellandur         4.850535  \n",
       "8260            BTM         4.780858  \n",
       "3762      Bellandur         4.699950  \n",
       "39546  Malleshwaram         4.691678  \n",
       "41533  Marathahalli         4.656828  "
      ]
     },
     "execution_count": 13,
     "metadata": {},
     "output_type": "execute_result"
    }
   ],
   "source": [
    "# Assuming you want to display the 'name', 'location', and 'cuisine' columns as well\n",
    "sorted_zomato = zomato.sort_values('weighted_rating', ascending=False).drop_duplicates(subset=['name'])\n",
    "sorted_zomato.head(5)"
   ]
  },
  {
   "cell_type": "code",
   "execution_count": 14,
   "metadata": {
    "colab": {
     "base_uri": "https://localhost:8080/",
     "height": 423
    },
    "id": "sB5z26XVETA3",
    "outputId": "b601f123-8ac4-4ee7-b24a-6357af3eee46"
   },
   "outputs": [
    {
     "data": {
      "text/html": [
       "<div>\n",
       "<style scoped>\n",
       "    .dataframe tbody tr th:only-of-type {\n",
       "        vertical-align: middle;\n",
       "    }\n",
       "\n",
       "    .dataframe tbody tr th {\n",
       "        vertical-align: top;\n",
       "    }\n",
       "\n",
       "    .dataframe thead th {\n",
       "        text-align: right;\n",
       "    }\n",
       "</style>\n",
       "<table border=\"1\" class=\"dataframe\">\n",
       "  <thead>\n",
       "    <tr style=\"text-align: right;\">\n",
       "      <th></th>\n",
       "      <th>name</th>\n",
       "      <th>reviews_list</th>\n",
       "    </tr>\n",
       "  </thead>\n",
       "  <tbody>\n",
       "    <tr>\n",
       "      <th>0</th>\n",
       "      <td>Jalsa</td>\n",
       "      <td>[('Rated 4.0', 'RATED\\n  A beautiful place to ...</td>\n",
       "    </tr>\n",
       "    <tr>\n",
       "      <th>1</th>\n",
       "      <td>Spice Elephant</td>\n",
       "      <td>[('Rated 4.0', 'RATED\\n  Had been here for din...</td>\n",
       "    </tr>\n",
       "    <tr>\n",
       "      <th>2</th>\n",
       "      <td>San Churro Cafe</td>\n",
       "      <td>[('Rated 3.0', \"RATED\\n  Ambience is not that ...</td>\n",
       "    </tr>\n",
       "    <tr>\n",
       "      <th>3</th>\n",
       "      <td>Addhuri Udupi Bhojana</td>\n",
       "      <td>[('Rated 4.0', \"RATED\\n  Great food and proper...</td>\n",
       "    </tr>\n",
       "    <tr>\n",
       "      <th>4</th>\n",
       "      <td>Grand Village</td>\n",
       "      <td>[('Rated 4.0', 'RATED\\n  Very good restaurant ...</td>\n",
       "    </tr>\n",
       "    <tr>\n",
       "      <th>...</th>\n",
       "      <td>...</td>\n",
       "      <td>...</td>\n",
       "    </tr>\n",
       "    <tr>\n",
       "      <th>51627</th>\n",
       "      <td>New Shalimar Hotel</td>\n",
       "      <td>[]</td>\n",
       "    </tr>\n",
       "    <tr>\n",
       "      <th>51628</th>\n",
       "      <td>Nook - Aloft Bengaluru Cessna Business Park</td>\n",
       "      <td>[('Rated 2.0', 'RATED\\n  Aloft has been design...</td>\n",
       "    </tr>\n",
       "    <tr>\n",
       "      <th>51632</th>\n",
       "      <td>SeeYa Restaurant</td>\n",
       "      <td>[('Rated 4.0', 'RATED\\n  Good food, take bit t...</td>\n",
       "    </tr>\n",
       "    <tr>\n",
       "      <th>51677</th>\n",
       "      <td>Bhagini</td>\n",
       "      <td>[('Rated 4.0', 'RATED\\n  A fine place to chill...</td>\n",
       "    </tr>\n",
       "    <tr>\n",
       "      <th>51714</th>\n",
       "      <td>Plunge - Sheraton Grand Bengaluru Whitefield H...</td>\n",
       "      <td>[]</td>\n",
       "    </tr>\n",
       "  </tbody>\n",
       "</table>\n",
       "<p>12499 rows × 2 columns</p>\n",
       "</div>"
      ],
      "text/plain": [
       "                                                    name  \\\n",
       "0                                                  Jalsa   \n",
       "1                                         Spice Elephant   \n",
       "2                                        San Churro Cafe   \n",
       "3                                  Addhuri Udupi Bhojana   \n",
       "4                                          Grand Village   \n",
       "...                                                  ...   \n",
       "51627                                 New Shalimar Hotel   \n",
       "51628        Nook - Aloft Bengaluru Cessna Business Park   \n",
       "51632                                   SeeYa Restaurant   \n",
       "51677                                            Bhagini   \n",
       "51714  Plunge - Sheraton Grand Bengaluru Whitefield H...   \n",
       "\n",
       "                                            reviews_list  \n",
       "0      [('Rated 4.0', 'RATED\\n  A beautiful place to ...  \n",
       "1      [('Rated 4.0', 'RATED\\n  Had been here for din...  \n",
       "2      [('Rated 3.0', \"RATED\\n  Ambience is not that ...  \n",
       "3      [('Rated 4.0', \"RATED\\n  Great food and proper...  \n",
       "4      [('Rated 4.0', 'RATED\\n  Very good restaurant ...  \n",
       "...                                                  ...  \n",
       "51627                                                 []  \n",
       "51628  [('Rated 2.0', 'RATED\\n  Aloft has been design...  \n",
       "51632  [('Rated 4.0', 'RATED\\n  Good food, take bit t...  \n",
       "51677  [('Rated 4.0', 'RATED\\n  A fine place to chill...  \n",
       "51714                                                 []  \n",
       "\n",
       "[12499 rows x 2 columns]"
      ]
     },
     "execution_count": 14,
     "metadata": {},
     "output_type": "execute_result"
    }
   ],
   "source": [
    "zomato[['name','reviews_list']]"
   ]
  },
  {
   "cell_type": "code",
   "execution_count": 15,
   "metadata": {
    "colab": {
     "base_uri": "https://localhost:8080/"
    },
    "id": "jF_xjpmXULU3",
    "outputId": "e33dd935-39f3-4388-b14b-d4fcff53a592"
   },
   "outputs": [
    {
     "data": {
      "text/plain": [
       "Index(['url', 'address', 'name', 'online_order', 'book_table', 'rate', 'votes',\n",
       "       'phone', 'location', 'rest_type', 'dish_liked', 'cuisines',\n",
       "       'approx_cost', 'reviews_list', 'menu_item', 'listed_type',\n",
       "       'listed_city', 'weighted_rating'],\n",
       "      dtype='object')"
      ]
     },
     "execution_count": 15,
     "metadata": {},
     "output_type": "execute_result"
    }
   ],
   "source": [
    "zomato.columns"
   ]
  },
  {
   "cell_type": "markdown",
   "metadata": {
    "id": "DgZy9kBZZI-3"
   },
   "source": [
    "## Candidates generation using label"
   ]
  },
  {
   "cell_type": "code",
   "execution_count": 22,
   "metadata": {
    "id": "c2nUMiHOZbUS"
   },
   "outputs": [],
   "source": [
    "def match_and_filter(df, column, search_term, top_n=5):\n",
    "    # Perform a precise match first\n",
    "    precise_matches = df[df[column].astype(str).str.lower() == str(search_term).lower()]\n",
    "\n",
    "    # If precise match results are fewer than top_n, perform fuzzy match\n",
    "    if len(precise_matches) < top_n:\n",
    "        matches = process.extract(search_term, df[column], scorer=process.scorer.WRatio, limit=None)\n",
    "        matched_indices = [match[2] for match in matches if match[1] > 80]\n",
    "        fuzzy_matches = df.iloc[matched_indices]\n",
    "        combined_matches = pd.concat([precise_matches, fuzzy_matches]).drop_duplicates()\n",
    "    else:\n",
    "        combined_matches = precise_matches\n",
    "\n",
    "    # Sort by weighed rating and remove duplicates by name\n",
    "    top_items = combined_matches.sort_values(by='weighted_rating', ascending=False).drop_duplicates(subset='name').head(top_n)\n",
    "\n",
    "    return top_items\n"
   ]
  },
  {
   "cell_type": "code",
   "execution_count": null,
   "metadata": {
    "id": "-eyctF7Qwib1"
   },
   "outputs": [],
   "source": []
  },
  {
   "cell_type": "markdown",
   "metadata": {
    "id": "hJBwXyqQZc8o"
   },
   "source": [
    "## Candidates generation based on numerical information"
   ]
  },
  {
   "cell_type": "code",
   "execution_count": 23,
   "metadata": {
    "id": "vziA5mnqZnSX"
   },
   "outputs": [],
   "source": [
    "def filter_by_float_column(df, column, value, top_n=5):\n",
    "    if isinstance(value, (int, float)):\n",
    "        # Single number, filter within ±20%\n",
    "        tolerance = 0.20 * value\n",
    "        lower_bound = value - tolerance\n",
    "        upper_bound = value + tolerance\n",
    "        condition = df[column].between(lower_bound, upper_bound)\n",
    "    elif isinstance(value, (list, tuple)) and len(value) == 2:\n",
    "        # Two numbers, range filter\n",
    "        lower_bound, upper_bound = sorted(value)  # Ensure lower to upper order\n",
    "        condition = df[column].between(lower_bound, upper_bound)\n",
    "    elif isinstance(value, dict):\n",
    "        # One number with direction, e.g. {'bigger': 1000}\n",
    "        number = next(iter(value.values()))\n",
    "        direction = next(iter(value.keys()))\n",
    "        if direction == 'bigger':\n",
    "            condition = df[column] > number\n",
    "        elif direction == 'smaller':\n",
    "            condition = df[column] < number\n",
    "        else:\n",
    "            raise ValueError(\"Direction can only be 'bigger' or 'smaller'.\")\n",
    "    else:\n",
    "        raise ValueError(\"Value must be a number, a range (list/tuple), or a dict with direction.\")\n",
    "\n",
    "    # Apply the filter\n",
    "    filtered_df = df[condition]\n",
    "\n",
    "    # Sort by 'weighed_rating' and remove duplicates by name\n",
    "    top_items = filtered_df.sort_values(by='weighted_rating', ascending=False).drop_duplicates(subset='name').head(top_n)\n",
    "\n",
    "    return top_items"
   ]
  },
  {
   "cell_type": "markdown",
   "metadata": {
    "id": "FGlHFGy1Zn32"
   },
   "source": [
    "##Merge and rank results"
   ]
  },
  {
   "cell_type": "code",
   "execution_count": 24,
   "metadata": {
    "id": "3jMZeeg2WhtQ"
   },
   "outputs": [],
   "source": [
    "def breakdown_and_collect(df, filter_list):\n",
    "    scores = pd.Series(0, index=df.index)  # Initialize the scores series to zero for all indices\n",
    "\n",
    "    for filter_dict in filter_list:\n",
    "        for column, search_term in filter_dict.items():\n",
    "            if isinstance(search_term, str):\n",
    "                # Check for precise match in string columns and score 1 if matched\n",
    "                scores[df[column].astype(str).str.lower() == search_term.lower()] += 1\n",
    "            elif isinstance(search_term, (int, float)):\n",
    "                # Check for match within range for float columns and assign appropriate score\n",
    "                tolerance = search_term * 0.2\n",
    "                upper_tolerance = search_term * 0.5\n",
    "                within_tolerance = df[column].between(search_term - tolerance, search_term + tolerance)\n",
    "                within_upper_tolerance = df[column].between(search_term - upper_tolerance, search_term + upper_tolerance)\n",
    "\n",
    "                # Score 1 for values within 20% tolerance\n",
    "                scores[within_tolerance] += 1\n",
    "                # Score 0.5 for values that exceed 20% but are within 50% tolerance\n",
    "                scores[(~within_tolerance) & within_upper_tolerance] += 0.5\n",
    "\n",
    "    df['score'] = scores  # Assign scores to the dataframe\n",
    "    df_matched = df[df['score'] > 0]  # Filter out rows with zero score\n",
    "\n",
    "    # Sort by score and weighted_rating, and get top 5 unique restaurants\n",
    "    df_matched = df_matched.sort_values(by=['score', 'weighted_rating'], ascending=[False, False])\n",
    "    df_matched_unique = df_matched.drop_duplicates(subset='name').head(5)\n",
    "\n",
    "    return df_matched_unique.drop(columns=['score'])  # Return results without the 'score' column\n",
    "\n"
   ]
  },
  {
   "cell_type": "code",
   "execution_count": 25,
   "metadata": {
    "colab": {
     "base_uri": "https://localhost:8080/"
    },
    "id": "MFEJhiiQWlA7",
    "outputId": "0d7ef5db-6037-431e-e1d7-09511d4f96db"
   },
   "outputs": [
    {
     "name": "stdout",
     "output_type": "stream",
     "text": [
      "                       name                                         cuisines  \\\n",
      "52   Corner House Ice Cream                              Ice Cream, Desserts   \n",
      "54             Roving Feast  Italian, Continental, Fast Food, Chinese, Momos   \n",
      "145            Anna Kuteera              South Indian, North Indian, Chinese   \n",
      "191      Mini Punjabi Dhaba                                     North Indian   \n",
      "13               Caf-Eleven                                Cafe, Continental   \n",
      "\n",
      "     approx_cost      location  weighted_rating  \n",
      "52         400.0  Banashankari         3.897820  \n",
      "54         450.0  Banashankari         3.879666  \n",
      "145        450.0  Banashankari         3.857134  \n",
      "191        350.0  Banashankari         3.845268  \n",
      "13         450.0  Banashankari         3.813146  \n"
     ]
    }
   ],
   "source": [
    "# Example filter_list with unique columns\n",
    "filter_list = [\n",
    "    {'cuisines': 'Italian'},\n",
    "    {'location': 'Banashankari'},\n",
    "    {'approx_cost': 400},  # Exact value with 20% tolerance\n",
    "]\n",
    "\n",
    "# Assuming `zomato` is the DataFrame loaded with your data\n",
    "final_results = breakdown_and_collect(zomato, filter_list)\n",
    "print(final_results[['name', 'cuisines', 'approx_cost', 'location', 'weighted_rating']])"
   ]
  },
  {
   "cell_type": "code",
   "execution_count": null,
   "metadata": {},
   "outputs": [],
   "source": []
  },
  {
   "cell_type": "code",
   "execution_count": 33,
   "metadata": {},
   "outputs": [],
   "source": [
    "import pickle\n",
    "# Load the model from the file\n",
    "with open('ensemble_model.pkl', 'rb') as file:\n",
    "    loaded_ensemble = pickle.load(file)"
   ]
  },
  {
   "cell_type": "code",
   "execution_count": 34,
   "metadata": {},
   "outputs": [],
   "source": [
    "import spacy\n",
    "\n",
    "# Load a pre-trained NLP model from spaCy\n",
    "nlp = spacy.load(\"en_core_web_sm\")\n",
    "\n",
    "def extract_entities(review_text):\n",
    "    # Convert non-string data to string\n",
    "    if not isinstance(review_text, str):\n",
    "        review_text = str(review_text)\n",
    "    doc = nlp(review_text)\n",
    "    return [(ent.text, ent.label_) for ent in doc.ents]"
   ]
  },
  {
   "cell_type": "code",
   "execution_count": 37,
   "metadata": {},
   "outputs": [],
   "source": [
    "import numpy as np\n",
    "def rank_restaurants(model_pipeline, restaurants, sentence):\n",
    "    # Extract entities from the sentence\n",
    "    entities = extract_entities(sentence)\n",
    "    \n",
    "    # Combine the restaurant names with the entities\n",
    "    combined_features = [f\"{restaurant} {entities}\" for restaurant in restaurants]\n",
    "    \n",
    "    # Initialize an empty list to hold probabilities\n",
    "    probabilities = [] \n",
    "    # Iterate through each fitted classifier within the VotingClassifier\n",
    "    for name, clf in model_pipeline.named_estimators_.items():\n",
    "        # Check if the named classifier is a pipeline\n",
    "        if hasattr(clf, 'named_steps'):\n",
    "            # Transform features using the fitted vectorizer in the pipeline\n",
    "            features_vectorized = clf.named_steps['vectorizer'].transform(combined_features)\n",
    "            \n",
    "            # Predict probabilities using the trained model in the pipeline\n",
    "            clf_probabilities = clf.named_steps['classifier'].predict_proba(features_vectorized)[:, 1]\n",
    "            \n",
    "            # Append probabilities to the list\n",
    "            probabilities.append(clf_probabilities)\n",
    "    \n",
    "    # Average the probabilities from all classifiers\n",
    "    average_probabilities = np.mean(probabilities, axis=0)\n",
    "    \n",
    "    # Create a DataFrame with the results\n",
    "    ranking_df = pd.DataFrame({\n",
    "        'Restaurant': restaurants,\n",
    "        'Entities': len(restaurants) * [entities],\n",
    "        'Probability_of_Recommendation': average_probabilities\n",
    "    })\n",
    "    \n",
    "    # Sort the DataFrame by probability of recommendation\n",
    "    ranking_df.sort_values(by='Probability_of_Recommendation', ascending=False, inplace=True)\n",
    "    \n",
    "    return ranking_df"
   ]
  },
  {
   "cell_type": "code",
   "execution_count": 38,
   "metadata": {},
   "outputs": [],
   "source": [
    "restaurant_list= list(final_results['name'])\n",
    "sentence = \"recommend a italian pub\"               \n",
    "ranked_df = rank_restaurants(loaded_ensemble, restaurant_list, sentence)"
   ]
  },
  {
   "cell_type": "code",
   "execution_count": 41,
   "metadata": {},
   "outputs": [
    {
     "name": "stdout",
     "output_type": "stream",
     "text": [
      "               Restaurant           Entities  Probability_of_Recommendation  \\\n",
      "0  Corner House Ice Cream  [(italian, NORP)]                       0.825126   \n",
      "1      Mini Punjabi Dhaba  [(italian, NORP)]                       0.687004   \n",
      "2              Caf-Eleven  [(italian, NORP)]                       0.603197   \n",
      "3            Roving Feast  [(italian, NORP)]                       0.577250   \n",
      "4            Anna Kuteera  [(italian, NORP)]                       0.508558   \n",
      "\n",
      "                              phone      location  approx_cost  \n",
      "0    080 26713965\\r\\n+91 9845444155  Banashankari        400.0  \n",
      "1  +91 9845044074\\r\\n+91 7406012344  Banashankari        350.0  \n",
      "2                      080 49577715  Banashankari        450.0  \n",
      "3      080 42024092\\r\\n080 42274242  Banashankari        450.0  \n",
      "4                    +91 9620009302  Banashankari        450.0  \n"
     ]
    }
   ],
   "source": [
    "def combine_rank_with_info(ranked_df, info_df):\n",
    "    # Merge the ranked DataFrame with the info DataFrame based on the restaurant name\n",
    "    combined_df = pd.merge(ranked_df, info_df, left_on='Restaurant', right_on='name', how='left')\n",
    "    \n",
    "    # Select and rename the columns you want to include in the final DataFrame\n",
    "    final_df = combined_df[['Restaurant', 'Entities', 'Probability_of_Recommendation', 'phone', 'location', 'approx_cost']]\n",
    "    \n",
    "    return final_df\n",
    "\n",
    "combined_info_df = combine_rank_with_info(ranked_df, final_results)\n",
    "\n",
    "print(combined_info_df)\n"
   ]
  },
  {
   "cell_type": "markdown",
   "metadata": {
    "id": "nwfACeocnSNh"
   },
   "source": [
    "# create a classifation model"
   ]
  },
  {
   "cell_type": "code",
   "execution_count": null,
   "metadata": {
    "id": "G5bbz2OFLCUh"
   },
   "outputs": [],
   "source": [
    "# First, ensure that the 'Rating' column is numeric and drop any non-numeric rows\n",
    "resto_reviews['Rating'] = pd.to_numeric(resto_reviews['Rating'], errors='coerce')\n",
    "resto_reviews = resto_reviews.dropna(subset=['Rating'])\n",
    "\n",
    "# Next, remove rows with no rating (if any still remain)\n",
    "resto_reviews = resto_reviews[resto_reviews['Rating'].notnull()]\n",
    "\n",
    "# Now, apply the lambda function to create the 'Recommendation' column\n",
    "resto_reviews['Recommendation'] = resto_reviews['Rating'].apply(lambda x: 'recommend' if x >= 3.0 else 'no recommend')\n",
    "\n",
    "# The updated DataFrame now has a 'Recommendation' column with values based on the 'Rating' column\n"
   ]
  },
  {
   "cell_type": "code",
   "execution_count": null,
   "metadata": {
    "id": "ZkpoNUFkM6V_"
   },
   "outputs": [],
   "source": [
    "from nltk.corpus import stopwords\n",
    "STOPWORDS = set(stopwords.words('english'))\n",
    "def remove_stopwords(text):\n",
    "    \"\"\"custom function to remove the stopwords\"\"\"\n",
    "    return \" \".join([word for word in str(text).split() if word not in STOPWORDS])\n",
    "\n",
    "resto_reviews[\"Review\"] = resto_reviews[\"Review\"].apply(lambda text: remove_stopwords(text))\n",
    "\n",
    "## Removal of URLS\n",
    "def remove_urls(text):\n",
    "    url_pattern = re.compile(r'https?://\\S+|www\\.\\S+')\n",
    "    return url_pattern.sub(r'', text)\n",
    "\n",
    "resto_reviews[\"Review\"] = resto_reviews[\"Review\"].apply(lambda text: remove_urls(text))"
   ]
  }
 ],
 "metadata": {
  "colab": {
   "provenance": []
  },
  "kernelspec": {
   "display_name": "Python 3 (ipykernel)",
   "language": "python",
   "name": "python3"
  },
  "language_info": {
   "codemirror_mode": {
    "name": "ipython",
    "version": 3
   },
   "file_extension": ".py",
   "mimetype": "text/x-python",
   "name": "python",
   "nbconvert_exporter": "python",
   "pygments_lexer": "ipython3",
   "version": "3.11.5"
  }
 },
 "nbformat": 4,
 "nbformat_minor": 1
}
