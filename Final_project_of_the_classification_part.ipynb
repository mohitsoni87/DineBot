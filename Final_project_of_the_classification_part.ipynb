{
 "cells": [
  {
   "cell_type": "code",
   "execution_count": 1,
   "metadata": {
    "colab": {
     "base_uri": "https://localhost:8080/"
    },
    "id": "YViwWEV9-5I9",
    "outputId": "d5bc6d50-1778-4a39-97e3-821a3acb8edb"
   },
   "outputs": [],
   "source": [
    "import pandas as pd\n",
    "#from google.colab import drive"
   ]
  },
  {
   "cell_type": "code",
   "execution_count": 2,
   "metadata": {
    "id": "SYi23gsTAMvV"
   },
   "outputs": [],
   "source": [
    "file_path='/Users/jamie/Downloads/resto_reviews.csv'\n",
    "resto_reviews= pd.read_csv(file_path)"
   ]
  },
  {
   "cell_type": "code",
   "execution_count": 7,
   "metadata": {},
   "outputs": [
    {
     "name": "stdout",
     "output_type": "stream",
     "text": [
      "<class 'pandas.core.frame.DataFrame'>\n",
      "RangeIndex: 1319968 entries, 0 to 1319967\n",
      "Data columns (total 3 columns):\n",
      " #   Column      Non-Null Count    Dtype  \n",
      "---  ------      --------------    -----  \n",
      " 0   Restaurant  1319968 non-null  object \n",
      " 1   Review      1317593 non-null  object \n",
      " 2   Rating      1319968 non-null  float64\n",
      "dtypes: float64(1), object(2)\n",
      "memory usage: 30.2+ MB\n"
     ]
    }
   ],
   "source": [
    "resto_reviews.info()"
   ]
  },
  {
   "cell_type": "code",
   "execution_count": 11,
   "metadata": {},
   "outputs": [],
   "source": [
    "resto_reviews.drop_duplicates(inplace=True)"
   ]
  },
  {
   "cell_type": "code",
   "execution_count": 15,
   "metadata": {},
   "outputs": [],
   "source": [
    "def word_count(review):\n",
    "    return len(str(review).split())\n",
    "\n",
    "# Apply the function to the 'review' column and count the reviews with less than 20 words\n",
    "reviews_less_than_5_words = resto_reviews['Review'].apply(word_count) < 5\n",
    "count_reviews = reviews_less_than_5_words.sum()"
   ]
  },
  {
   "cell_type": "code",
   "execution_count": 16,
   "metadata": {},
   "outputs": [
    {
     "data": {
      "text/plain": [
       "11267"
      ]
     },
     "execution_count": 16,
     "metadata": {},
     "output_type": "execute_result"
    }
   ],
   "source": [
    "count_reviews"
   ]
  },
  {
   "cell_type": "code",
   "execution_count": 17,
   "metadata": {},
   "outputs": [],
   "source": [
    "# Get the indices of reviews with less than 5 words\n",
    "indices_to_drop = resto_reviews[reviews_less_than_5_words].index\n",
    "\n",
    "# Drop these reviews from the dataframe\n",
    "resto_reviews.drop(indices_to_drop, inplace=True)"
   ]
  },
  {
   "cell_type": "code",
   "execution_count": 18,
   "metadata": {},
   "outputs": [
    {
     "name": "stdout",
     "output_type": "stream",
     "text": [
      "<class 'pandas.core.frame.DataFrame'>\n",
      "Index: 133349 entries, 0 to 1317826\n",
      "Data columns (total 3 columns):\n",
      " #   Column      Non-Null Count   Dtype  \n",
      "---  ------      --------------   -----  \n",
      " 0   Restaurant  133349 non-null  object \n",
      " 1   Review      133349 non-null  object \n",
      " 2   Rating      133349 non-null  float64\n",
      "dtypes: float64(1), object(2)\n",
      "memory usage: 4.1+ MB\n"
     ]
    }
   ],
   "source": [
    "resto_reviews.info()"
   ]
  },
  {
   "cell_type": "code",
   "execution_count": 20,
   "metadata": {},
   "outputs": [
    {
     "data": {
      "text/plain": [
       "count    133349.000000\n",
       "mean          3.593203\n",
       "std           1.324065\n",
       "min           1.000000\n",
       "25%           3.000000\n",
       "50%           4.000000\n",
       "75%           5.000000\n",
       "max           5.000000\n",
       "Name: Rating, dtype: float64"
      ]
     },
     "execution_count": 20,
     "metadata": {},
     "output_type": "execute_result"
    }
   ],
   "source": [
    "resto_reviews['Rating'].describe()"
   ]
  },
  {
   "cell_type": "code",
   "execution_count": null,
   "metadata": {},
   "outputs": [],
   "source": [
    "pip install spacy"
   ]
  },
  {
   "cell_type": "code",
   "execution_count": 5,
   "metadata": {},
   "outputs": [
    {
     "name": "stdout",
     "output_type": "stream",
     "text": [
      "Collecting en-core-web-sm==3.7.1\n",
      "  Downloading https://github.com/explosion/spacy-models/releases/download/en_core_web_sm-3.7.1/en_core_web_sm-3.7.1-py3-none-any.whl (12.8 MB)\n",
      "\u001b[2K     \u001b[90m━━━━━━━━━━━━━━━━━━━━━━━━━━━━━━━━━━━━━━━━\u001b[0m \u001b[32m12.8/12.8 MB\u001b[0m \u001b[31m36.2 MB/s\u001b[0m eta \u001b[36m0:00:00\u001b[0m00:01\u001b[0m00:01\u001b[0m\n",
      "\u001b[?25hRequirement already satisfied: spacy<3.8.0,>=3.7.2 in /Applications/anaconda/anaconda3/lib/python3.11/site-packages (from en-core-web-sm==3.7.1) (3.7.4)\n",
      "Requirement already satisfied: spacy-legacy<3.1.0,>=3.0.11 in /Applications/anaconda/anaconda3/lib/python3.11/site-packages (from spacy<3.8.0,>=3.7.2->en-core-web-sm==3.7.1) (3.0.12)\n",
      "Requirement already satisfied: spacy-loggers<2.0.0,>=1.0.0 in /Applications/anaconda/anaconda3/lib/python3.11/site-packages (from spacy<3.8.0,>=3.7.2->en-core-web-sm==3.7.1) (1.0.5)\n",
      "Requirement already satisfied: murmurhash<1.1.0,>=0.28.0 in /Applications/anaconda/anaconda3/lib/python3.11/site-packages (from spacy<3.8.0,>=3.7.2->en-core-web-sm==3.7.1) (1.0.10)\n",
      "Requirement already satisfied: cymem<2.1.0,>=2.0.2 in /Applications/anaconda/anaconda3/lib/python3.11/site-packages (from spacy<3.8.0,>=3.7.2->en-core-web-sm==3.7.1) (2.0.8)\n",
      "Requirement already satisfied: preshed<3.1.0,>=3.0.2 in /Applications/anaconda/anaconda3/lib/python3.11/site-packages (from spacy<3.8.0,>=3.7.2->en-core-web-sm==3.7.1) (3.0.9)\n",
      "Requirement already satisfied: thinc<8.3.0,>=8.2.2 in /Applications/anaconda/anaconda3/lib/python3.11/site-packages (from spacy<3.8.0,>=3.7.2->en-core-web-sm==3.7.1) (8.2.3)\n",
      "Requirement already satisfied: wasabi<1.2.0,>=0.9.1 in /Applications/anaconda/anaconda3/lib/python3.11/site-packages (from spacy<3.8.0,>=3.7.2->en-core-web-sm==3.7.1) (1.1.2)\n",
      "Requirement already satisfied: srsly<3.0.0,>=2.4.3 in /Applications/anaconda/anaconda3/lib/python3.11/site-packages (from spacy<3.8.0,>=3.7.2->en-core-web-sm==3.7.1) (2.4.8)\n",
      "Requirement already satisfied: catalogue<2.1.0,>=2.0.6 in /Applications/anaconda/anaconda3/lib/python3.11/site-packages (from spacy<3.8.0,>=3.7.2->en-core-web-sm==3.7.1) (2.0.10)\n",
      "Requirement already satisfied: weasel<0.4.0,>=0.1.0 in /Applications/anaconda/anaconda3/lib/python3.11/site-packages (from spacy<3.8.0,>=3.7.2->en-core-web-sm==3.7.1) (0.3.4)\n",
      "Requirement already satisfied: typer<0.10.0,>=0.3.0 in /Applications/anaconda/anaconda3/lib/python3.11/site-packages (from spacy<3.8.0,>=3.7.2->en-core-web-sm==3.7.1) (0.9.4)\n",
      "Requirement already satisfied: smart-open<7.0.0,>=5.2.1 in /Applications/anaconda/anaconda3/lib/python3.11/site-packages (from spacy<3.8.0,>=3.7.2->en-core-web-sm==3.7.1) (5.2.1)\n",
      "Requirement already satisfied: tqdm<5.0.0,>=4.38.0 in /Applications/anaconda/anaconda3/lib/python3.11/site-packages (from spacy<3.8.0,>=3.7.2->en-core-web-sm==3.7.1) (4.65.0)\n",
      "Requirement already satisfied: requests<3.0.0,>=2.13.0 in /Applications/anaconda/anaconda3/lib/python3.11/site-packages (from spacy<3.8.0,>=3.7.2->en-core-web-sm==3.7.1) (2.31.0)\n",
      "Requirement already satisfied: pydantic!=1.8,!=1.8.1,<3.0.0,>=1.7.4 in /Applications/anaconda/anaconda3/lib/python3.11/site-packages (from spacy<3.8.0,>=3.7.2->en-core-web-sm==3.7.1) (1.10.8)\n",
      "Requirement already satisfied: jinja2 in /Applications/anaconda/anaconda3/lib/python3.11/site-packages (from spacy<3.8.0,>=3.7.2->en-core-web-sm==3.7.1) (3.1.2)\n",
      "Requirement already satisfied: setuptools in /Applications/anaconda/anaconda3/lib/python3.11/site-packages (from spacy<3.8.0,>=3.7.2->en-core-web-sm==3.7.1) (68.0.0)\n",
      "Requirement already satisfied: packaging>=20.0 in /Applications/anaconda/anaconda3/lib/python3.11/site-packages (from spacy<3.8.0,>=3.7.2->en-core-web-sm==3.7.1) (23.1)\n",
      "Requirement already satisfied: langcodes<4.0.0,>=3.2.0 in /Applications/anaconda/anaconda3/lib/python3.11/site-packages (from spacy<3.8.0,>=3.7.2->en-core-web-sm==3.7.1) (3.3.0)\n",
      "Requirement already satisfied: numpy>=1.19.0 in /Applications/anaconda/anaconda3/lib/python3.11/site-packages (from spacy<3.8.0,>=3.7.2->en-core-web-sm==3.7.1) (1.24.3)\n",
      "Requirement already satisfied: typing-extensions>=4.2.0 in /Applications/anaconda/anaconda3/lib/python3.11/site-packages (from pydantic!=1.8,!=1.8.1,<3.0.0,>=1.7.4->spacy<3.8.0,>=3.7.2->en-core-web-sm==3.7.1) (4.7.1)\n",
      "Requirement already satisfied: charset-normalizer<4,>=2 in /Applications/anaconda/anaconda3/lib/python3.11/site-packages (from requests<3.0.0,>=2.13.0->spacy<3.8.0,>=3.7.2->en-core-web-sm==3.7.1) (2.0.4)\n",
      "Requirement already satisfied: idna<4,>=2.5 in /Applications/anaconda/anaconda3/lib/python3.11/site-packages (from requests<3.0.0,>=2.13.0->spacy<3.8.0,>=3.7.2->en-core-web-sm==3.7.1) (3.4)\n",
      "Requirement already satisfied: urllib3<3,>=1.21.1 in /Applications/anaconda/anaconda3/lib/python3.11/site-packages (from requests<3.0.0,>=2.13.0->spacy<3.8.0,>=3.7.2->en-core-web-sm==3.7.1) (1.26.16)\n",
      "Requirement already satisfied: certifi>=2017.4.17 in /Applications/anaconda/anaconda3/lib/python3.11/site-packages (from requests<3.0.0,>=2.13.0->spacy<3.8.0,>=3.7.2->en-core-web-sm==3.7.1) (2023.7.22)\n",
      "Requirement already satisfied: blis<0.8.0,>=0.7.8 in /Applications/anaconda/anaconda3/lib/python3.11/site-packages (from thinc<8.3.0,>=8.2.2->spacy<3.8.0,>=3.7.2->en-core-web-sm==3.7.1) (0.7.11)\n",
      "Requirement already satisfied: confection<1.0.0,>=0.0.1 in /Applications/anaconda/anaconda3/lib/python3.11/site-packages (from thinc<8.3.0,>=8.2.2->spacy<3.8.0,>=3.7.2->en-core-web-sm==3.7.1) (0.1.4)\n",
      "Requirement already satisfied: click<9.0.0,>=7.1.1 in /Applications/anaconda/anaconda3/lib/python3.11/site-packages (from typer<0.10.0,>=0.3.0->spacy<3.8.0,>=3.7.2->en-core-web-sm==3.7.1) (8.0.4)\n",
      "Requirement already satisfied: cloudpathlib<0.17.0,>=0.7.0 in /Applications/anaconda/anaconda3/lib/python3.11/site-packages (from weasel<0.4.0,>=0.1.0->spacy<3.8.0,>=3.7.2->en-core-web-sm==3.7.1) (0.16.0)\n",
      "Requirement already satisfied: MarkupSafe>=2.0 in /Applications/anaconda/anaconda3/lib/python3.11/site-packages (from jinja2->spacy<3.8.0,>=3.7.2->en-core-web-sm==3.7.1) (2.1.1)\n",
      "Installing collected packages: en-core-web-sm\n",
      "Successfully installed en-core-web-sm-3.7.1\n",
      "\u001b[38;5;2m✔ Download and installation successful\u001b[0m\n",
      "You can now load the package via spacy.load('en_core_web_sm')\n"
     ]
    }
   ],
   "source": [
    "!python -m spacy download en_core_web_sm"
   ]
  },
  {
   "cell_type": "markdown",
   "metadata": {
    "id": "70rj5olEja6Z"
   },
   "source": [
    "for the problem of profermance, i choose a sub dataset for 100000 rows"
   ]
  },
  {
   "cell_type": "code",
   "execution_count": 21,
   "metadata": {
    "id": "8p5-q-PFCEa6"
   },
   "outputs": [],
   "source": [
    "import spacy\n",
    "\n",
    "# Load a pre-trained NLP model from spaCy\n",
    "nlp = spacy.load(\"en_core_web_sm\")\n",
    "\n",
    "def extract_entities(review_text):\n",
    "    # Convert non-string data to string\n",
    "    if not isinstance(review_text, str):\n",
    "        review_text = str(review_text)\n",
    "    doc = nlp(review_text)\n",
    "    return [(ent.text, ent.label_) for ent in doc.ents]\n",
    "\n",
    "# Apply the function to the 'Review' column after ensuring all data is of type str\n",
    "resto_reviews['Entities'] = resto_reviews['Review'].astype(str).apply(extract_entities)\n"
   ]
  },
  {
   "cell_type": "code",
   "execution_count": 22,
   "metadata": {
    "colab": {
     "base_uri": "https://localhost:8080/",
     "height": 206
    },
    "id": "oQCkbFp6AffX",
    "outputId": "b63cdb71-cb09-4acd-d962-a77107357ec6"
   },
   "outputs": [
    {
     "data": {
      "text/html": [
       "<div>\n",
       "<style scoped>\n",
       "    .dataframe tbody tr th:only-of-type {\n",
       "        vertical-align: middle;\n",
       "    }\n",
       "\n",
       "    .dataframe tbody tr th {\n",
       "        vertical-align: top;\n",
       "    }\n",
       "\n",
       "    .dataframe thead th {\n",
       "        text-align: right;\n",
       "    }\n",
       "</style>\n",
       "<table border=\"1\" class=\"dataframe\">\n",
       "  <thead>\n",
       "    <tr style=\"text-align: right;\">\n",
       "      <th></th>\n",
       "      <th>Restaurant</th>\n",
       "      <th>Review</th>\n",
       "      <th>Rating</th>\n",
       "      <th>Entities</th>\n",
       "    </tr>\n",
       "  </thead>\n",
       "  <tbody>\n",
       "    <tr>\n",
       "      <th>0</th>\n",
       "      <td>Jalsa</td>\n",
       "      <td>A beautiful place to dine in.The interiors tak...</td>\n",
       "      <td>4.0</td>\n",
       "      <td>[(Mughal, ORG), (Christmas, DATE)]</td>\n",
       "    </tr>\n",
       "    <tr>\n",
       "      <th>1</th>\n",
       "      <td>Jalsa</td>\n",
       "      <td>I was here for dinner with my family on a week...</td>\n",
       "      <td>4.0</td>\n",
       "      <td>[(butter roti, PERSON)]</td>\n",
       "    </tr>\n",
       "    <tr>\n",
       "      <th>2</th>\n",
       "      <td>Jalsa</td>\n",
       "      <td>Its a restaurant near to Banashankari BDA. Me ...</td>\n",
       "      <td>2.0</td>\n",
       "      <td>[(Banashankari BDA, PERSON)]</td>\n",
       "    </tr>\n",
       "    <tr>\n",
       "      <th>3</th>\n",
       "      <td>Jalsa</td>\n",
       "      <td>We went here on a weekend and one of us had th...</td>\n",
       "      <td>4.0</td>\n",
       "      <td>[(a weekend, DATE), (one, CARDINAL), (two, CAR...</td>\n",
       "    </tr>\n",
       "    <tr>\n",
       "      <th>4</th>\n",
       "      <td>Jalsa</td>\n",
       "      <td>The best thing about the place is itÃÃÃÃ...</td>\n",
       "      <td>5.0</td>\n",
       "      <td>[(Second, ORDINAL)]</td>\n",
       "    </tr>\n",
       "  </tbody>\n",
       "</table>\n",
       "</div>"
      ],
      "text/plain": [
       "  Restaurant                                             Review  Rating  \\\n",
       "0      Jalsa  A beautiful place to dine in.The interiors tak...     4.0   \n",
       "1      Jalsa  I was here for dinner with my family on a week...     4.0   \n",
       "2      Jalsa  Its a restaurant near to Banashankari BDA. Me ...     2.0   \n",
       "3      Jalsa  We went here on a weekend and one of us had th...     4.0   \n",
       "4      Jalsa  The best thing about the place is itÃÃÃÃ...     5.0   \n",
       "\n",
       "                                            Entities  \n",
       "0                 [(Mughal, ORG), (Christmas, DATE)]  \n",
       "1                            [(butter roti, PERSON)]  \n",
       "2                       [(Banashankari BDA, PERSON)]  \n",
       "3  [(a weekend, DATE), (one, CARDINAL), (two, CAR...  \n",
       "4                                [(Second, ORDINAL)]  "
      ]
     },
     "execution_count": 22,
     "metadata": {},
     "output_type": "execute_result"
    }
   ],
   "source": [
    "resto_reviews.head()"
   ]
  },
  {
   "cell_type": "code",
   "execution_count": 23,
   "metadata": {
    "colab": {
     "base_uri": "https://localhost:8080/"
    },
    "id": "tJpiq5dxIfSw",
    "outputId": "6f288378-67ff-4061-d39b-8a5b4ac6b4bf"
   },
   "outputs": [],
   "source": [
    "resto_reviews['Recommend'] = resto_reviews['Rating'].apply(lambda x: 1 if x >= 4.0 else 0)"
   ]
  },
  {
   "cell_type": "code",
   "execution_count": 25,
   "metadata": {
    "id": "I33Fdt2-Kp36"
   },
   "outputs": [],
   "source": [
    "resto_reviews.to_csv('/Users/jamie/Downloads/resto_reviews_1.csv', index=False)"
   ]
  },
  {
   "cell_type": "code",
   "execution_count": 26,
   "metadata": {
    "colab": {
     "base_uri": "https://localhost:8080/",
     "height": 206
    },
    "id": "OjkwUNLeIu9o",
    "outputId": "5c8a9953-7a3d-4c47-9f2b-82629c526b1d"
   },
   "outputs": [
    {
     "data": {
      "text/html": [
       "<div>\n",
       "<style scoped>\n",
       "    .dataframe tbody tr th:only-of-type {\n",
       "        vertical-align: middle;\n",
       "    }\n",
       "\n",
       "    .dataframe tbody tr th {\n",
       "        vertical-align: top;\n",
       "    }\n",
       "\n",
       "    .dataframe thead th {\n",
       "        text-align: right;\n",
       "    }\n",
       "</style>\n",
       "<table border=\"1\" class=\"dataframe\">\n",
       "  <thead>\n",
       "    <tr style=\"text-align: right;\">\n",
       "      <th></th>\n",
       "      <th>Restaurant</th>\n",
       "      <th>Review</th>\n",
       "      <th>Rating</th>\n",
       "      <th>Entities</th>\n",
       "      <th>Recommend</th>\n",
       "    </tr>\n",
       "  </thead>\n",
       "  <tbody>\n",
       "    <tr>\n",
       "      <th>0</th>\n",
       "      <td>Jalsa</td>\n",
       "      <td>A beautiful place to dine in.The interiors tak...</td>\n",
       "      <td>4.0</td>\n",
       "      <td>[(Mughal, ORG), (Christmas, DATE)]</td>\n",
       "      <td>1</td>\n",
       "    </tr>\n",
       "    <tr>\n",
       "      <th>1</th>\n",
       "      <td>Jalsa</td>\n",
       "      <td>I was here for dinner with my family on a week...</td>\n",
       "      <td>4.0</td>\n",
       "      <td>[(butter roti, PERSON)]</td>\n",
       "      <td>1</td>\n",
       "    </tr>\n",
       "    <tr>\n",
       "      <th>2</th>\n",
       "      <td>Jalsa</td>\n",
       "      <td>Its a restaurant near to Banashankari BDA. Me ...</td>\n",
       "      <td>2.0</td>\n",
       "      <td>[(Banashankari BDA, PERSON)]</td>\n",
       "      <td>0</td>\n",
       "    </tr>\n",
       "    <tr>\n",
       "      <th>3</th>\n",
       "      <td>Jalsa</td>\n",
       "      <td>We went here on a weekend and one of us had th...</td>\n",
       "      <td>4.0</td>\n",
       "      <td>[(a weekend, DATE), (one, CARDINAL), (two, CAR...</td>\n",
       "      <td>1</td>\n",
       "    </tr>\n",
       "    <tr>\n",
       "      <th>4</th>\n",
       "      <td>Jalsa</td>\n",
       "      <td>The best thing about the place is itÃÃÃÃ...</td>\n",
       "      <td>5.0</td>\n",
       "      <td>[(Second, ORDINAL)]</td>\n",
       "      <td>1</td>\n",
       "    </tr>\n",
       "  </tbody>\n",
       "</table>\n",
       "</div>"
      ],
      "text/plain": [
       "  Restaurant                                             Review  Rating  \\\n",
       "0      Jalsa  A beautiful place to dine in.The interiors tak...     4.0   \n",
       "1      Jalsa  I was here for dinner with my family on a week...     4.0   \n",
       "2      Jalsa  Its a restaurant near to Banashankari BDA. Me ...     2.0   \n",
       "3      Jalsa  We went here on a weekend and one of us had th...     4.0   \n",
       "4      Jalsa  The best thing about the place is itÃÃÃÃ...     5.0   \n",
       "\n",
       "                                            Entities  Recommend  \n",
       "0                 [(Mughal, ORG), (Christmas, DATE)]          1  \n",
       "1                            [(butter roti, PERSON)]          1  \n",
       "2                       [(Banashankari BDA, PERSON)]          0  \n",
       "3  [(a weekend, DATE), (one, CARDINAL), (two, CAR...          1  \n",
       "4                                [(Second, ORDINAL)]          1  "
      ]
     },
     "execution_count": 26,
     "metadata": {},
     "output_type": "execute_result"
    }
   ],
   "source": [
    "resto_reviews.head()"
   ]
  },
  {
   "cell_type": "code",
   "execution_count": 27,
   "metadata": {
    "colab": {
     "base_uri": "https://localhost:8080/"
    },
    "id": "bOU-Qda3LMuI",
    "outputId": "78b83631-cfb4-49de-d103-f7f5a23d4fd1"
   },
   "outputs": [
    {
     "name": "stderr",
     "output_type": "stream",
     "text": [
      "/Applications/anaconda/anaconda3/lib/python3.11/site-packages/sklearn/linear_model/_logistic.py:460: ConvergenceWarning: lbfgs failed to converge (status=1):\n",
      "STOP: TOTAL NO. of ITERATIONS REACHED LIMIT.\n",
      "\n",
      "Increase the number of iterations (max_iter) or scale the data as shown in:\n",
      "    https://scikit-learn.org/stable/modules/preprocessing.html\n",
      "Please also refer to the documentation for alternative solver options:\n",
      "    https://scikit-learn.org/stable/modules/linear_model.html#logistic-regression\n",
      "  n_iter_i = _check_optimize_result(\n"
     ]
    },
    {
     "name": "stdout",
     "output_type": "stream",
     "text": [
      "Random Forest Classifier Report:\n",
      "              precision    recall  f1-score   support\n",
      "\n",
      "           0       0.64      0.60      0.62     15773\n",
      "           1       0.75      0.78      0.77     24232\n",
      "\n",
      "    accuracy                           0.71     40005\n",
      "   macro avg       0.70      0.69      0.69     40005\n",
      "weighted avg       0.71      0.71      0.71     40005\n",
      "\n",
      "Logistic Regression Classifier Report:\n",
      "              precision    recall  f1-score   support\n",
      "\n",
      "           0       0.65      0.54      0.59     15773\n",
      "           1       0.73      0.81      0.77     24232\n",
      "\n",
      "    accuracy                           0.70     40005\n",
      "   macro avg       0.69      0.68      0.68     40005\n",
      "weighted avg       0.70      0.70      0.70     40005\n",
      "\n",
      "Support Vector Classifier Report:\n",
      "              precision    recall  f1-score   support\n",
      "\n",
      "           0       0.69      0.52      0.59     15773\n",
      "           1       0.73      0.85      0.78     24232\n",
      "\n",
      "    accuracy                           0.72     40005\n",
      "   macro avg       0.71      0.68      0.69     40005\n",
      "weighted avg       0.71      0.72      0.71     40005\n",
      "\n"
     ]
    }
   ],
   "source": [
    "import pandas as pd\n",
    "import spacy\n",
    "from sklearn.model_selection import train_test_split\n",
    "from sklearn.feature_extraction.text import CountVectorizer\n",
    "from sklearn.ensemble import RandomForestClassifier\n",
    "from sklearn.linear_model import LogisticRegression\n",
    "from sklearn.svm import SVC\n",
    "from sklearn.pipeline import Pipeline\n",
    "from sklearn.metrics import classification_report\n",
    "\n",
    "# Load spaCy model\n",
    "nlp = spacy.load(\"en_core_web_sm\")\n",
    "\n",
    "\n",
    "# Function to combine restaurant names and entities into a single string\n",
    "def combine_features(row):\n",
    "    # Extract and join entities from the tuple representation\n",
    "    entities = ' '.join([ent[0] for ent in row['Entities']])\n",
    "    return f\"{row['Restaurant']} {entities}\"\n",
    "\n",
    "# Combine the features into a single column\n",
    "resto_reviews['Features'] = resto_reviews.apply(combine_features, axis=1)\n",
    "\n",
    "# Prepare the feature matrix X and target vector y\n",
    "X = resto_reviews['Features']\n",
    "y = resto_reviews['Recommend']\n",
    "\n",
    "# Split the data\n",
    "X_train, X_test, y_train, y_test = train_test_split(X, y, test_size=0.3, random_state=42)\n",
    "\n",
    "# Define the models\n",
    "rf_model = Pipeline([\n",
    "    ('vectorizer', CountVectorizer()),\n",
    "    ('classifier', RandomForestClassifier(random_state=42))\n",
    "])\n",
    "\n",
    "lr_model = Pipeline([\n",
    "    ('vectorizer', CountVectorizer()),\n",
    "    ('classifier', LogisticRegression(random_state=42))\n",
    "])\n",
    "\n",
    "svc_model = Pipeline([\n",
    "    ('vectorizer', CountVectorizer()),\n",
    "    ('classifier', SVC(probability=True, random_state=42))\n",
    "])\n",
    "\n",
    "# Train the models\n",
    "rf_model.fit(X_train, y_train)\n",
    "lr_model.fit(X_train, y_train)\n",
    "svc_model.fit(X_train, y_train)\n",
    "\n",
    "# Predict the results\n",
    "rf_pred = rf_model.predict(X_test)\n",
    "lr_pred = lr_model.predict(X_test)\n",
    "svc_pred = svc_model.predict(X_test)\n",
    "\n",
    "# Evaluate the models\n",
    "print(\"Random Forest Classifier Report:\")\n",
    "print(classification_report(y_test, rf_pred))\n",
    "\n",
    "print(\"Logistic Regression Classifier Report:\")\n",
    "print(classification_report(y_test, lr_pred))\n",
    "\n",
    "print(\"Support Vector Classifier Report:\")\n",
    "print(classification_report(y_test, svc_pred))"
   ]
  },
  {
   "cell_type": "code",
   "execution_count": 28,
   "metadata": {},
   "outputs": [
    {
     "name": "stderr",
     "output_type": "stream",
     "text": [
      "/Applications/anaconda/anaconda3/lib/python3.11/site-packages/sklearn/linear_model/_logistic.py:460: ConvergenceWarning: lbfgs failed to converge (status=1):\n",
      "STOP: TOTAL NO. of ITERATIONS REACHED LIMIT.\n",
      "\n",
      "Increase the number of iterations (max_iter) or scale the data as shown in:\n",
      "    https://scikit-learn.org/stable/modules/preprocessing.html\n",
      "Please also refer to the documentation for alternative solver options:\n",
      "    https://scikit-learn.org/stable/modules/linear_model.html#logistic-regression\n",
      "  n_iter_i = _check_optimize_result(\n"
     ]
    },
    {
     "name": "stdout",
     "output_type": "stream",
     "text": [
      "              precision    recall  f1-score   support\n",
      "\n",
      "           0       0.69      0.56      0.62     15773\n",
      "           1       0.74      0.84      0.79     24232\n",
      "\n",
      "    accuracy                           0.73     40005\n",
      "   macro avg       0.72      0.70      0.70     40005\n",
      "weighted avg       0.72      0.73      0.72     40005\n",
      "\n"
     ]
    }
   ],
   "source": [
    "from sklearn.ensemble import VotingClassifier\n",
    "\n",
    "# Create the sub-models\n",
    "estimators = [\n",
    "    ('rf', rf_model), \n",
    "    ('lr', lr_model), \n",
    "    ('svc', svc_model)\n",
    "]\n",
    "\n",
    "# Create the ensemble model\n",
    "ensemble = VotingClassifier(estimators, voting='soft')  # 'soft' if you want to predict class probabilities\n",
    "\n",
    "# Train the ensemble model\n",
    "ensemble.fit(X_train, y_train)\n",
    "\n",
    "# Predict with the ensemble model\n",
    "ensemble_predictions = ensemble.predict(X_test)\n",
    "\n",
    "# Evaluate the ensemble model\n",
    "print(classification_report(y_test, ensemble_predictions))"
   ]
  },
  {
   "cell_type": "code",
   "execution_count": 31,
   "metadata": {},
   "outputs": [],
   "source": [
    "import pickle\n",
    "\n",
    "# Save the model to a file\n",
    "with open('ensemble_model.pkl', 'wb') as file:\n",
    "    pickle.dump(ensemble, file)\n"
   ]
  },
  {
   "cell_type": "markdown",
   "metadata": {
    "id": "pUaXPQR1iOMT"
   },
   "source": [
    "# Looks like the random forest have the best result"
   ]
  },
  {
   "cell_type": "markdown",
   "metadata": {
    "id": "XEUcGxpGiZQP"
   },
   "source": [
    "define a function that take the restuant from previous candidate generation precess, and extracte the entity form the user's interaction. we rank the the resturant list based the prediction of recommendation probability"
   ]
  },
  {
   "cell_type": "code",
   "execution_count": 34,
   "metadata": {
    "id": "wHd3FH0gfKMS"
   },
   "outputs": [],
   "source": [
    "import numpy as np\n",
    "def rank_restaurants(model_pipeline, restaurants, sentence):\n",
    "    # Extract entities from the sentence\n",
    "    entities = extract_entities(sentence)\n",
    "    \n",
    "    # Combine the restaurant names with the entities\n",
    "    combined_features = [f\"{restaurant} {entities}\" for restaurant in restaurants]\n",
    "    \n",
    "    # Initialize an empty list to hold probabilities\n",
    "    probabilities = []\n",
    "    \n",
    "    # Iterate through each fitted classifier within the VotingClassifier\n",
    "    for name, clf in model_pipeline.named_estimators_.items():\n",
    "        # Check if the named classifier is a pipeline\n",
    "        if hasattr(clf, 'named_steps'):\n",
    "            # Transform features using the fitted vectorizer in the pipeline\n",
    "            features_vectorized = clf.named_steps['vectorizer'].transform(combined_features)\n",
    "            \n",
    "            # Predict probabilities using the trained model in the pipeline\n",
    "            clf_probabilities = clf.named_steps['classifier'].predict_proba(features_vectorized)[:, 1]\n",
    "            \n",
    "            # Append probabilities to the list\n",
    "            probabilities.append(clf_probabilities)\n",
    "    \n",
    "    # Average the probabilities from all classifiers\n",
    "    average_probabilities = np.mean(probabilities, axis=0)\n",
    "    \n",
    "    # Create a DataFrame with the results\n",
    "    ranking_df = pd.DataFrame({\n",
    "        'Restaurant': restaurants,\n",
    "        'Entities': len(restaurants) * [entities],\n",
    "        'Probability_of_Recommendation': average_probabilities\n",
    "    })\n",
    "    \n",
    "    # Sort the DataFrame by probability of recommendation\n",
    "    ranking_df.sort_values(by='Probability_of_Recommendation', ascending=False, inplace=True)\n",
    "    \n",
    "    return ranking_df\n"
   ]
  },
  {
   "cell_type": "code",
   "execution_count": 39,
   "metadata": {
    "colab": {
     "base_uri": "https://localhost:8080/"
    },
    "id": "MYQiXOgahFeh",
    "outputId": "d12ce9f4-e71e-4205-fd59-1cdde1fd8aca"
   },
   "outputs": [
    {
     "name": "stdout",
     "output_type": "stream",
     "text": [
      "           Restaurant           Entities  Probability_of_Recommendation\n",
      "1             Chianti  [(italian, NORP)]                       0.846809\n",
      "0  The Boozy Griffin   [(italian, NORP)]                       0.824016\n",
      "2   Deja Vu Resto Bar  [(italian, NORP)]                       0.806264\n",
      "3           OPUS Club  [(italian, NORP)]                       0.787903\n",
      "4          Monkey Bar  [(italian, NORP)]                       0.779820\n"
     ]
    }
   ],
   "source": [
    "restaurant_list = ['The Boozy Griffin ', 'Chianti', 'Deja Vu Resto Bar','OPUS Club','Monkey Bar']\n",
    "sentence = \"recommend a italian pub\"\n",
    "ranked_df = rank_restaurants(ensemble, restaurant_list, sentence)\n",
    "\n",
    "print(ranked_df)"
   ]
  },
  {
   "cell_type": "code",
   "execution_count": null,
   "metadata": {
    "id": "tkpv9meIhGKa"
   },
   "outputs": [],
   "source": []
  }
 ],
 "metadata": {
  "colab": {
   "provenance": []
  },
  "kernelspec": {
   "display_name": "Python 3 (ipykernel)",
   "language": "python",
   "name": "python3"
  },
  "language_info": {
   "codemirror_mode": {
    "name": "ipython",
    "version": 3
   },
   "file_extension": ".py",
   "mimetype": "text/x-python",
   "name": "python",
   "nbconvert_exporter": "python",
   "pygments_lexer": "ipython3",
   "version": "3.11.5"
  }
 },
 "nbformat": 4,
 "nbformat_minor": 1
}
